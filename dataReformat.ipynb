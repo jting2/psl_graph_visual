{
 "cells": [
  {
   "cell_type": "code",
   "execution_count": 19,
   "metadata": {
    "scrolled": true
   },
   "outputs": [
    {
     "name": "stdout",
     "output_type": "stream",
     "text": [
      "simple-acq-data\\globallikes_obs.txt\n",
      "simple-acq-data\\knows_data.txt\n",
      "simple-acq-data\\knows_obs.txt\n",
      "simple-acq-data\\knows_target.txt\n",
      "simple-acq-data\\knows_truth.txt\n",
      "simple-acq-data\\lived_obs.txt\n",
      "simple-acq-data\\locallikes_obs.txt\n"
     ]
    }
   ],
   "source": [
    "import os\n",
    "import json\n",
    "\n",
    "\n",
    "# Converting data into json format \n",
    "def atomValSplit(file, i):\n",
    "    print(file)\n",
    "    fp = open(file, 'r')\n",
    "    \n",
    "    constant = []\n",
    "\n",
    "    #Obtaining data and puttingi n json\n",
    "    for data in fp:\n",
    "        atoms = data.split('\\t')\n",
    "        constant.append({'id': (atoms[0] + ', ' + atoms[1]), 'group': i})\n",
    "\n",
    "    #Storing data into a json file\n",
    "    with open('data/'+file[15:-4]+'_val.json', 'w') as t:\n",
    "        json.dump(constant, t, indent = 4)\n",
    "    fp.close()\n",
    "i = 0\n",
    "for file in os.listdir(\"simple-acq-data\"):\n",
    "    if file.endswith(\".txt\"):\n",
    "        atomValSplit(os.path.join(\"simple-acq-data\", file), i)\n",
    "        i+=1"
   ]
  },
  {
   "cell_type": "code",
   "execution_count": null,
   "metadata": {},
   "outputs": [],
   "source": [
    "import json\n",
    "\n",
    "data = []\n",
    "\n",
    "with open('data/locallikes_obs_atom.txt') as file:\n",
    "    for line in file:\n",
    "        line = line.strip()\n",
    "        val = line.split(', ')\n",
    "        x_val = val[0].split(': ')[1]\n",
    "        y_val = val[1].split(': ')[1]\n",
    "        data.append({'x': int(x_val), 'y': int(y_val)})\n",
    "\n",
    "print(json.dumps(data, indent = 4))\n"
   ]
  }
 ],
 "metadata": {
  "kernelspec": {
   "display_name": "Python 3",
   "language": "python",
   "name": "python3"
  },
  "language_info": {
   "codemirror_mode": {
    "name": "ipython",
    "version": 3
   },
   "file_extension": ".py",
   "mimetype": "text/x-python",
   "name": "python",
   "nbconvert_exporter": "python",
   "pygments_lexer": "ipython3",
   "version": "3.6.5"
  }
 },
 "nbformat": 4,
 "nbformat_minor": 2
}
