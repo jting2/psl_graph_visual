{
 "cells": [
  {
   "cell_type": "code",
   "execution_count": 4,
   "metadata": {
    "scrolled": true
   },
   "outputs": [
    {
     "name": "stdout",
     "output_type": "stream",
     "text": [
      "simple-acq-data\\globallikes_obs.txt\n",
      "simple-acq-data\\knows_data.txt\n",
      "simple-acq-data\\knows_obs.txt\n",
      "simple-acq-data\\knows_truth.txt\n",
      "simple-acq-data\\locallikes_obs.txt\n"
     ]
    }
   ],
   "source": [
    "import os\n",
    "\n",
    "def atomValSplit(file):\n",
    "    print(file)\n",
    "    fp = open(file, 'r')\n",
    "    \n",
    "    constant = []\n",
    "    const_val = []\n",
    "    for data in fp:\n",
    "        atoms = data.split('\\t')\n",
    "        constant.append('x: ' + atoms[0] + ', ' + 'y: ' + atoms[1])\n",
    "        const_val.append(atoms[2])\n",
    "  \n",
    "    ran = \"\".join(const_val)\n",
    "    atom = \"\\n\".join(constant)\n",
    "\n",
    "    with open('data/'+file[15:-4]+'_val.txt', 'w') as t:\n",
    "        t.write(ran)\n",
    "    fp.close()\n",
    "\n",
    "for file in os.listdir(\"simple-acq-data\"):\n",
    "    if file.endswith(\".txt\"):\n",
    "        atomValSplit(os.path.join(\"simple-acq-data\", file))"
   ]
  }
 ],
 "metadata": {
  "kernelspec": {
   "display_name": "Python 3",
   "language": "python",
   "name": "python3"
  },
  "language_info": {
   "codemirror_mode": {
    "name": "ipython",
    "version": 3
   },
   "file_extension": ".py",
   "mimetype": "text/x-python",
   "name": "python",
   "nbconvert_exporter": "python",
   "pygments_lexer": "ipython3",
   "version": "3.6.5"
  }
 },
 "nbformat": 4,
 "nbformat_minor": 2
}
